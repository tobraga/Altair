{
 "cells": [
  {
   "cell_type": "markdown",
   "id": "invalid-quantum",
   "metadata": {},
   "source": [
    "#  Landslides After Rainfall, 2007-2016 - TP1"
   ]
  },
  {
   "cell_type": "markdown",
   "id": "greenhouse-values",
   "metadata": {},
   "source": [
    "Os acontecimentos de deslizamentos de terra trazem um grande perigo para a população global, causando 11.500 óbitos em 70 países desde o início da sua contabilização no catálogo, 2007. [O Catálogo Global de Deslizamentos (GLC)](https://www.kaggle.com/nasa/landslide-events) foi desenvolvido para identificar os eventos, idenpendente do impacto, tamanho ou localização, considerando movimentos desencadeados por chuvas, realtados pela mídia, banco de dados de desastres, relatórios científicos e outras fontes. \n",
    "Diante dos fatos, surge alguns dúvidas com relação ao catálogo de dados:\n",
    "* Existe lugares/localidades (específicas) com mais incidências desses eventos?\n",
    "* Há um momento do dia que influência na ocorrência dos deslizamentos de terra?"
   ]
  },
  {
   "cell_type": "code",
   "execution_count": 49,
   "id": "adequate-reaction",
   "metadata": {},
   "outputs": [],
   "source": [
    "import altair as alt\n",
    "import pandas as pd"
   ]
  },
  {
   "cell_type": "code",
   "execution_count": 18,
   "id": "broadband-roberts",
   "metadata": {},
   "outputs": [],
   "source": [
    "df = pd.read_csv(\"https://raw.githubusercontent.com/tobraga/Altair/main/catalog.csv?token=AJ2FKZWD6JWHZNAKNWMS54DANZJPQ\")"
   ]
  },
  {
   "cell_type": "code",
   "execution_count": 50,
   "id": "secret-client",
   "metadata": {},
   "outputs": [],
   "source": [
    "url = \"https://raw.githubusercontent.com/tobraga/Altair/main/catalog.csv?token=AJ2FKZWD6JWHZNAKNWMS54DANZJPQ\""
   ]
  },
  {
   "cell_type": "markdown",
   "id": "concrete-quest",
   "metadata": {},
   "source": [
    "## Existe lugares/localidades (específicas) com mais incidências desses eventos?"
   ]
  },
  {
   "cell_type": "code",
   "execution_count": 65,
   "id": "circular-dietary",
   "metadata": {},
   "outputs": [
    {
     "data": {
      "text/html": [
       "\n",
       "<div id=\"altair-viz-5939a05188b446958ae307160c018763\"></div>\n",
       "<script type=\"text/javascript\">\n",
       "  (function(spec, embedOpt){\n",
       "    let outputDiv = document.currentScript.previousElementSibling;\n",
       "    if (outputDiv.id !== \"altair-viz-5939a05188b446958ae307160c018763\") {\n",
       "      outputDiv = document.getElementById(\"altair-viz-5939a05188b446958ae307160c018763\");\n",
       "    }\n",
       "    const paths = {\n",
       "      \"vega\": \"https://cdn.jsdelivr.net/npm//vega@5?noext\",\n",
       "      \"vega-lib\": \"https://cdn.jsdelivr.net/npm//vega-lib?noext\",\n",
       "      \"vega-lite\": \"https://cdn.jsdelivr.net/npm//vega-lite@4.8.1?noext\",\n",
       "      \"vega-embed\": \"https://cdn.jsdelivr.net/npm//vega-embed@6?noext\",\n",
       "    };\n",
       "\n",
       "    function loadScript(lib) {\n",
       "      return new Promise(function(resolve, reject) {\n",
       "        var s = document.createElement('script');\n",
       "        s.src = paths[lib];\n",
       "        s.async = true;\n",
       "        s.onload = () => resolve(paths[lib]);\n",
       "        s.onerror = () => reject(`Error loading script: ${paths[lib]}`);\n",
       "        document.getElementsByTagName(\"head\")[0].appendChild(s);\n",
       "      });\n",
       "    }\n",
       "\n",
       "    function showError(err) {\n",
       "      outputDiv.innerHTML = `<div class=\"error\" style=\"color:red;\">${err}</div>`;\n",
       "      throw err;\n",
       "    }\n",
       "\n",
       "    function displayChart(vegaEmbed) {\n",
       "      vegaEmbed(outputDiv, spec, embedOpt)\n",
       "        .catch(err => showError(`Javascript Error: ${err.message}<br>This usually means there's a typo in your chart specification. See the javascript console for the full traceback.`));\n",
       "    }\n",
       "\n",
       "    if(typeof define === \"function\" && define.amd) {\n",
       "      requirejs.config({paths});\n",
       "      require([\"vega-embed\"], displayChart, err => showError(`Error loading script: ${err.message}`));\n",
       "    } else if (typeof vegaEmbed === \"function\") {\n",
       "      displayChart(vegaEmbed);\n",
       "    } else {\n",
       "      loadScript(\"vega\")\n",
       "        .then(() => loadScript(\"vega-lite\"))\n",
       "        .then(() => loadScript(\"vega-embed\"))\n",
       "        .catch(showError)\n",
       "        .then(() => displayChart(vegaEmbed));\n",
       "    }\n",
       "  })({\"config\": {\"view\": {\"continuousWidth\": 400, \"continuousHeight\": 300}}, \"data\": {\"url\": \"https://raw.githubusercontent.com/tobraga/Altair/main/catalog.csv?token=AJ2FKZWD6JWHZNAKNWMS54DANZJPQ\"}, \"mark\": \"line\", \"encoding\": {\"color\": {\"value\": \"SandyBrown\"}, \"x\": {\"type\": \"quantitative\", \"bin\": true, \"field\": \"country_code\", \"title\": \"x\"}, \"y\": {\"type\": \"quantitative\", \"aggregate\": \"count\", \"title\": \"y\"}}, \"$schema\": \"https://vega.github.io/schema/vega-lite/v4.8.1.json\"}, {\"mode\": \"vega-lite\"});\n",
       "</script>"
      ],
      "text/plain": [
       "alt.Chart(...)"
      ]
     },
     "execution_count": 65,
     "metadata": {},
     "output_type": "execute_result"
    }
   ],
   "source": [
    "alt.Chart(url).mark_line().encode(\n",
    "    alt.X(\"country_code:Q\", bin=True, title=\"x\"),\n",
    "    alt.Y(\"count()\", title=\"y\"),\n",
    "    color=alt.value(\"SandyBrown\")\n",
    ")"
   ]
  },
  {
   "cell_type": "code",
   "execution_count": null,
   "id": "italian-reason",
   "metadata": {},
   "outputs": [],
   "source": []
  }
 ],
 "metadata": {
  "kernelspec": {
   "display_name": "Python 3",
   "language": "python",
   "name": "python3"
  },
  "language_info": {
   "codemirror_mode": {
    "name": "ipython",
    "version": 3
   },
   "file_extension": ".py",
   "mimetype": "text/x-python",
   "name": "python",
   "nbconvert_exporter": "python",
   "pygments_lexer": "ipython3",
   "version": "3.8.7"
  }
 },
 "nbformat": 4,
 "nbformat_minor": 5
}
