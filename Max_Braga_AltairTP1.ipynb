{
  "nbformat": 4,
  "nbformat_minor": 5,
  "metadata": {
    "kernelspec": {
      "display_name": "Python 3",
      "language": "python",
      "name": "python3"
    },
    "language_info": {
      "codemirror_mode": {
        "name": "ipython",
        "version": 3
      },
      "file_extension": ".py",
      "mimetype": "text/x-python",
      "name": "python",
      "nbconvert_exporter": "python",
      "pygments_lexer": "ipython3",
      "version": "3.8.7"
    },
    "colab": {
      "name": "Max_Braga_AltairTP1.ipynb",
      "provenance": [],
      "include_colab_link": true
    }
  },
  "cells": [
    {
      "cell_type": "markdown",
      "metadata": {
        "id": "view-in-github",
        "colab_type": "text"
      },
      "source": [
        "<a href=\"https://colab.research.google.com/github/tobraga/Altair/blob/main/Max_Braga_AltairTP1.ipynb\" target=\"_parent\"><img src=\"https://colab.research.google.com/assets/colab-badge.svg\" alt=\"Open In Colab\"/></a>"
      ]
    },
    {
      "cell_type": "markdown",
      "metadata": {
        "id": "-A5CHmIKpUPu"
      },
      "source": [
        "#  Landslides After Rainfall, 2007-2016 - TP1\n",
        "\n",
        "Os acontecimentos de deslizamentos de terra trazem um grande perigo para a população global, causando 11.500 óbitos em 70 países desde o início da sua contabilização no catálogo, 2007. [O Catálogo Global de Deslizamentos (GLC)](https://www.kaggle.com/nasa/landslide-events) foi desenvolvido para identificar os eventos, idenpendente do impacto, tamanho ou localização, considerando movimentos desencadeados por chuvas, realtados pela mídia, banco de dados de desastres, relatórios científicos e outras fontes. \n",
        "Diante dos fatos, surge alguns dúvidas com relação ao catálogo de dados:\n",
        "* Existe lugares/localidades (específicas) com mais incidências desses eventos?\n",
        "* Há um momento do dia que influência na ocorrência dos deslizamentos de terra?"
      ],
      "id": "-A5CHmIKpUPu"
    },
    {
      "cell_type": "code",
      "metadata": {
        "id": "orange-traffic"
      },
      "source": [
        "import altair as alt\n",
        "import pandas as pd"
      ],
      "id": "orange-traffic",
      "execution_count": 2,
      "outputs": []
    },
    {
      "cell_type": "code",
      "metadata": {
        "id": "progressive-poster"
      },
      "source": [
        "df = pd.read_csv(\"https://raw.githubusercontent.com/tobraga/Altair/main/catalog.csv?token=AJ2FKZWD6JWHZNAKNWMS54DANZJPQ\")"
      ],
      "id": "progressive-poster",
      "execution_count": null,
      "outputs": []
    },
    {
      "cell_type": "code",
      "metadata": {
        "id": "oriented-nature"
      },
      "source": [
        "url = \"https://raw.githubusercontent.com/tobraga/Altair/main/catalog.csv\""
      ],
      "id": "oriented-nature",
      "execution_count": 3,
      "outputs": []
    },
    {
      "cell_type": "markdown",
      "metadata": {
        "id": "1dGTQSI6pfGK"
      },
      "source": [
        "## Existe lugares/localidades e datas (específicas) com mais incidências desses eventos, e alguma relação com fatalidades?"
      ],
      "id": "1dGTQSI6pfGK"
    },
    {
      "cell_type": "markdown",
      "metadata": {
        "id": "S4zm-7JGrb3_"
      },
      "source": [
        "Há uma grande quantidade de deslizamentos de terra concentrado nos EUA."
      ],
      "id": "S4zm-7JGrb3_"
    },
    {
      "cell_type": "code",
      "metadata": {
        "id": "OYQ4p6Ab9jSk",
        "colab": {
          "base_uri": "https://localhost:8080/",
          "height": 508
        },
        "outputId": "24a4e3bc-d637-4e17-f9da-eef5ee00bbd9"
      },
      "source": [
        "cidade = alt.Chart(url).mark_bar().encode(\n",
        "    alt.X(\"country_name:N\", title=\"fatalidades\"),\n",
        "    alt.Y(\"count()\", title=\"contagem\"),\n",
        "    color=alt.value(\"SandyBrown\")\n",
        ")\n",
        "cidade"
      ],
      "id": "OYQ4p6Ab9jSk",
      "execution_count": null,
      "outputs": [
        {
          "output_type": "execute_result",
          "data": {
            "text/plain": [
              "alt.Chart(...)"
            ],
            "text/html": [
              "\n",
              "<div id=\"altair-viz-f777fe573e7a4c38b164e68245000adc\"></div>\n",
              "<script type=\"text/javascript\">\n",
              "  (function(spec, embedOpt){\n",
              "    let outputDiv = document.currentScript.previousElementSibling;\n",
              "    if (outputDiv.id !== \"altair-viz-f777fe573e7a4c38b164e68245000adc\") {\n",
              "      outputDiv = document.getElementById(\"altair-viz-f777fe573e7a4c38b164e68245000adc\");\n",
              "    }\n",
              "    const paths = {\n",
              "      \"vega\": \"https://cdn.jsdelivr.net/npm//vega@5?noext\",\n",
              "      \"vega-lib\": \"https://cdn.jsdelivr.net/npm//vega-lib?noext\",\n",
              "      \"vega-lite\": \"https://cdn.jsdelivr.net/npm//vega-lite@4.8.1?noext\",\n",
              "      \"vega-embed\": \"https://cdn.jsdelivr.net/npm//vega-embed@6?noext\",\n",
              "    };\n",
              "\n",
              "    function loadScript(lib) {\n",
              "      return new Promise(function(resolve, reject) {\n",
              "        var s = document.createElement('script');\n",
              "        s.src = paths[lib];\n",
              "        s.async = true;\n",
              "        s.onload = () => resolve(paths[lib]);\n",
              "        s.onerror = () => reject(`Error loading script: ${paths[lib]}`);\n",
              "        document.getElementsByTagName(\"head\")[0].appendChild(s);\n",
              "      });\n",
              "    }\n",
              "\n",
              "    function showError(err) {\n",
              "      outputDiv.innerHTML = `<div class=\"error\" style=\"color:red;\">${err}</div>`;\n",
              "      throw err;\n",
              "    }\n",
              "\n",
              "    function displayChart(vegaEmbed) {\n",
              "      vegaEmbed(outputDiv, spec, embedOpt)\n",
              "        .catch(err => showError(`Javascript Error: ${err.message}<br>This usually means there's a typo in your chart specification. See the javascript console for the full traceback.`));\n",
              "    }\n",
              "\n",
              "    if(typeof define === \"function\" && define.amd) {\n",
              "      requirejs.config({paths});\n",
              "      require([\"vega-embed\"], displayChart, err => showError(`Error loading script: ${err.message}`));\n",
              "    } else if (typeof vegaEmbed === \"function\") {\n",
              "      displayChart(vegaEmbed);\n",
              "    } else {\n",
              "      loadScript(\"vega\")\n",
              "        .then(() => loadScript(\"vega-lite\"))\n",
              "        .then(() => loadScript(\"vega-embed\"))\n",
              "        .catch(showError)\n",
              "        .then(() => displayChart(vegaEmbed));\n",
              "    }\n",
              "  })({\"config\": {\"view\": {\"continuousWidth\": 400, \"continuousHeight\": 300}}, \"data\": {\"url\": \"https://raw.githubusercontent.com/tobraga/Altair/main/catalog.csv\"}, \"mark\": \"bar\", \"encoding\": {\"color\": {\"value\": \"SandyBrown\"}, \"x\": {\"type\": \"nominal\", \"field\": \"country_name\", \"title\": \"fatalidades\"}, \"y\": {\"type\": \"quantitative\", \"aggregate\": \"count\", \"title\": \"contagem\"}}, \"$schema\": \"https://vega.github.io/schema/vega-lite/v4.8.1.json\"}, {\"mode\": \"vega-lite\"});\n",
              "</script>"
            ]
          },
          "metadata": {
            "tags": []
          },
          "execution_count": 86
        }
      ]
    },
    {
      "cell_type": "markdown",
      "metadata": {
        "id": "kwwnC2N7rsao"
      },
      "source": [
        "Realizando uma relação de fatalidades entre os atributos numero de fatalidades x população atingida. A Guatemala possui a maior quantidade de fatalidades com índice baixo populacional atingido.\n",
        "O México tem um índice menor que 80 de fatalidades com uma zona populacional atingida maior."
      ],
      "id": "kwwnC2N7rsao"
    },
    {
      "cell_type": "code",
      "metadata": {
        "id": "PdaxCx-WDd2R",
        "colab": {
          "base_uri": "https://localhost:8080/",
          "height": 625
        },
        "outputId": "a152b12a-03d9-416b-810b-9e3850018a2a"
      },
      "source": [
        "fatal = alt.Chart(url).mark_bar().encode(\n",
        "    x='fatalities:Q',\n",
        "    y=alt.Y('country_name:N', sort='-x')\n",
        ")\n",
        "\n",
        "pop = alt.Chart(url).mark_bar().encode(\n",
        "    x='population:Q',\n",
        "    y=alt.Y('country_name:N', sort='-x')\n",
        ")\n",
        "\n",
        "(fatal | pop).configure_view(\n",
        "    stroke='transparent' # sem outline\n",
        ")"
      ],
      "id": "PdaxCx-WDd2R",
      "execution_count": null,
      "outputs": [
        {
          "output_type": "execute_result",
          "data": {
            "text/plain": [
              "alt.HConcatChart(...)"
            ],
            "text/html": [
              "\n",
              "<div id=\"altair-viz-2172fbb70ea4490e9d3947fe60fca389\"></div>\n",
              "<script type=\"text/javascript\">\n",
              "  (function(spec, embedOpt){\n",
              "    let outputDiv = document.currentScript.previousElementSibling;\n",
              "    if (outputDiv.id !== \"altair-viz-2172fbb70ea4490e9d3947fe60fca389\") {\n",
              "      outputDiv = document.getElementById(\"altair-viz-2172fbb70ea4490e9d3947fe60fca389\");\n",
              "    }\n",
              "    const paths = {\n",
              "      \"vega\": \"https://cdn.jsdelivr.net/npm//vega@5?noext\",\n",
              "      \"vega-lib\": \"https://cdn.jsdelivr.net/npm//vega-lib?noext\",\n",
              "      \"vega-lite\": \"https://cdn.jsdelivr.net/npm//vega-lite@4.8.1?noext\",\n",
              "      \"vega-embed\": \"https://cdn.jsdelivr.net/npm//vega-embed@6?noext\",\n",
              "    };\n",
              "\n",
              "    function loadScript(lib) {\n",
              "      return new Promise(function(resolve, reject) {\n",
              "        var s = document.createElement('script');\n",
              "        s.src = paths[lib];\n",
              "        s.async = true;\n",
              "        s.onload = () => resolve(paths[lib]);\n",
              "        s.onerror = () => reject(`Error loading script: ${paths[lib]}`);\n",
              "        document.getElementsByTagName(\"head\")[0].appendChild(s);\n",
              "      });\n",
              "    }\n",
              "\n",
              "    function showError(err) {\n",
              "      outputDiv.innerHTML = `<div class=\"error\" style=\"color:red;\">${err}</div>`;\n",
              "      throw err;\n",
              "    }\n",
              "\n",
              "    function displayChart(vegaEmbed) {\n",
              "      vegaEmbed(outputDiv, spec, embedOpt)\n",
              "        .catch(err => showError(`Javascript Error: ${err.message}<br>This usually means there's a typo in your chart specification. See the javascript console for the full traceback.`));\n",
              "    }\n",
              "\n",
              "    if(typeof define === \"function\" && define.amd) {\n",
              "      requirejs.config({paths});\n",
              "      require([\"vega-embed\"], displayChart, err => showError(`Error loading script: ${err.message}`));\n",
              "    } else if (typeof vegaEmbed === \"function\") {\n",
              "      displayChart(vegaEmbed);\n",
              "    } else {\n",
              "      loadScript(\"vega\")\n",
              "        .then(() => loadScript(\"vega-lite\"))\n",
              "        .then(() => loadScript(\"vega-embed\"))\n",
              "        .catch(showError)\n",
              "        .then(() => displayChart(vegaEmbed));\n",
              "    }\n",
              "  })({\"config\": {\"view\": {\"continuousWidth\": 400, \"continuousHeight\": 300, \"stroke\": \"transparent\"}}, \"hconcat\": [{\"mark\": \"bar\", \"encoding\": {\"x\": {\"type\": \"quantitative\", \"field\": \"fatalities\"}, \"y\": {\"type\": \"nominal\", \"field\": \"country_name\", \"sort\": \"-x\"}}}, {\"mark\": \"bar\", \"encoding\": {\"x\": {\"type\": \"quantitative\", \"field\": \"population\"}, \"y\": {\"type\": \"nominal\", \"field\": \"country_name\", \"sort\": \"-x\"}}}], \"data\": {\"url\": \"https://raw.githubusercontent.com/tobraga/Altair/main/catalog.csv\"}, \"$schema\": \"https://vega.github.io/schema/vega-lite/v4.8.1.json\"}, {\"mode\": \"vega-lite\"});\n",
              "</script>"
            ]
          },
          "metadata": {
            "tags": []
          },
          "execution_count": 6
        }
      ]
    },
    {
      "cell_type": "markdown",
      "metadata": {
        "id": "KtOouyKEuA5L"
      },
      "source": [
        "Entre 2015 e 2016 houve maior indice de deslizamentos com fatalidades registradas"
      ],
      "id": "KtOouyKEuA5L"
    },
    {
      "cell_type": "code",
      "metadata": {
        "id": "DxHsCGi5BqCD",
        "colab": {
          "base_uri": "https://localhost:8080/",
          "height": 351
        },
        "outputId": "c45f231a-8eac-4064-ba85-7dbc681fe309"
      },
      "source": [
        "alt.Chart(url).mark_line(opacity=.5, point=True).encode(\n",
        "    alt.X(\"date:T\", title=\"\"),\n",
        "    alt.Y(\"fatalities:Q\", title=\"fatalidades\"),\n",
        "    color=alt.value(\"SandyBrown\"),\n",
        "    tooltip=[\"mean(fatalities:Q\"]\n",
        ").transform_filter(\n",
        "    'datum[\"fatalities\"] !== \\\"\\\"' # removendo valores vazios\n",
        ")"
      ],
      "id": "DxHsCGi5BqCD",
      "execution_count": 4,
      "outputs": [
        {
          "output_type": "execute_result",
          "data": {
            "text/plain": [
              "alt.Chart(...)"
            ],
            "text/html": [
              "\n",
              "<div id=\"altair-viz-eae4acd5cdbe43f9b70e560ef28d7b17\"></div>\n",
              "<script type=\"text/javascript\">\n",
              "  (function(spec, embedOpt){\n",
              "    let outputDiv = document.currentScript.previousElementSibling;\n",
              "    if (outputDiv.id !== \"altair-viz-eae4acd5cdbe43f9b70e560ef28d7b17\") {\n",
              "      outputDiv = document.getElementById(\"altair-viz-eae4acd5cdbe43f9b70e560ef28d7b17\");\n",
              "    }\n",
              "    const paths = {\n",
              "      \"vega\": \"https://cdn.jsdelivr.net/npm//vega@5?noext\",\n",
              "      \"vega-lib\": \"https://cdn.jsdelivr.net/npm//vega-lib?noext\",\n",
              "      \"vega-lite\": \"https://cdn.jsdelivr.net/npm//vega-lite@4.8.1?noext\",\n",
              "      \"vega-embed\": \"https://cdn.jsdelivr.net/npm//vega-embed@6?noext\",\n",
              "    };\n",
              "\n",
              "    function loadScript(lib) {\n",
              "      return new Promise(function(resolve, reject) {\n",
              "        var s = document.createElement('script');\n",
              "        s.src = paths[lib];\n",
              "        s.async = true;\n",
              "        s.onload = () => resolve(paths[lib]);\n",
              "        s.onerror = () => reject(`Error loading script: ${paths[lib]}`);\n",
              "        document.getElementsByTagName(\"head\")[0].appendChild(s);\n",
              "      });\n",
              "    }\n",
              "\n",
              "    function showError(err) {\n",
              "      outputDiv.innerHTML = `<div class=\"error\" style=\"color:red;\">${err}</div>`;\n",
              "      throw err;\n",
              "    }\n",
              "\n",
              "    function displayChart(vegaEmbed) {\n",
              "      vegaEmbed(outputDiv, spec, embedOpt)\n",
              "        .catch(err => showError(`Javascript Error: ${err.message}<br>This usually means there's a typo in your chart specification. See the javascript console for the full traceback.`));\n",
              "    }\n",
              "\n",
              "    if(typeof define === \"function\" && define.amd) {\n",
              "      requirejs.config({paths});\n",
              "      require([\"vega-embed\"], displayChart, err => showError(`Error loading script: ${err.message}`));\n",
              "    } else if (typeof vegaEmbed === \"function\") {\n",
              "      displayChart(vegaEmbed);\n",
              "    } else {\n",
              "      loadScript(\"vega\")\n",
              "        .then(() => loadScript(\"vega-lite\"))\n",
              "        .then(() => loadScript(\"vega-embed\"))\n",
              "        .catch(showError)\n",
              "        .then(() => displayChart(vegaEmbed));\n",
              "    }\n",
              "  })({\"config\": {\"view\": {\"continuousWidth\": 400, \"continuousHeight\": 300}}, \"data\": {\"url\": \"https://raw.githubusercontent.com/tobraga/Altair/main/catalog.csv\"}, \"mark\": {\"type\": \"line\", \"opacity\": 0.5, \"point\": true}, \"encoding\": {\"color\": {\"value\": \"SandyBrown\"}, \"tooltip\": [{\"type\": \"quantitative\", \"field\": \"mean(fatalities\"}], \"x\": {\"type\": \"temporal\", \"field\": \"date\", \"title\": \"\"}, \"y\": {\"type\": \"quantitative\", \"field\": \"fatalities\", \"title\": \"fatalidades\"}}, \"transform\": [{\"filter\": \"datum[\\\"fatalities\\\"] !== \\\"\\\"\"}], \"$schema\": \"https://vega.github.io/schema/vega-lite/v4.8.1.json\"}, {\"mode\": \"vega-lite\"});\n",
              "</script>"
            ]
          },
          "metadata": {
            "tags": []
          },
          "execution_count": 4
        }
      ]
    },
    {
      "cell_type": "code",
      "metadata": {
        "id": "pkUs2vZNHm7c",
        "colab": {
          "base_uri": "https://localhost:8080/",
          "height": 363
        },
        "outputId": "91d4861e-c772-49b5-e3eb-c16c428a79b7"
      },
      "source": [
        "from vega_datasets import data\n",
        "\n",
        "alt.Chart(url).mark_circle().encode(\n",
        "    alt.X('fatalities:Q', scale=alt.Scale(zero=False)),\n",
        "    alt.Y('population:Q', scale=alt.Scale(zero=False, padding=1)),\n",
        "    color='landslide_size:N',\n",
        "    size='landslide_size:N'\n",
        ")"
      ],
      "id": "pkUs2vZNHm7c",
      "execution_count": null,
      "outputs": [
        {
          "output_type": "execute_result",
          "data": {
            "text/plain": [
              "alt.Chart(...)"
            ],
            "text/html": [
              "\n",
              "<div id=\"altair-viz-80b0bb19a7ac4a88a742b6690c51aef8\"></div>\n",
              "<script type=\"text/javascript\">\n",
              "  (function(spec, embedOpt){\n",
              "    let outputDiv = document.currentScript.previousElementSibling;\n",
              "    if (outputDiv.id !== \"altair-viz-80b0bb19a7ac4a88a742b6690c51aef8\") {\n",
              "      outputDiv = document.getElementById(\"altair-viz-80b0bb19a7ac4a88a742b6690c51aef8\");\n",
              "    }\n",
              "    const paths = {\n",
              "      \"vega\": \"https://cdn.jsdelivr.net/npm//vega@5?noext\",\n",
              "      \"vega-lib\": \"https://cdn.jsdelivr.net/npm//vega-lib?noext\",\n",
              "      \"vega-lite\": \"https://cdn.jsdelivr.net/npm//vega-lite@4.8.1?noext\",\n",
              "      \"vega-embed\": \"https://cdn.jsdelivr.net/npm//vega-embed@6?noext\",\n",
              "    };\n",
              "\n",
              "    function loadScript(lib) {\n",
              "      return new Promise(function(resolve, reject) {\n",
              "        var s = document.createElement('script');\n",
              "        s.src = paths[lib];\n",
              "        s.async = true;\n",
              "        s.onload = () => resolve(paths[lib]);\n",
              "        s.onerror = () => reject(`Error loading script: ${paths[lib]}`);\n",
              "        document.getElementsByTagName(\"head\")[0].appendChild(s);\n",
              "      });\n",
              "    }\n",
              "\n",
              "    function showError(err) {\n",
              "      outputDiv.innerHTML = `<div class=\"error\" style=\"color:red;\">${err}</div>`;\n",
              "      throw err;\n",
              "    }\n",
              "\n",
              "    function displayChart(vegaEmbed) {\n",
              "      vegaEmbed(outputDiv, spec, embedOpt)\n",
              "        .catch(err => showError(`Javascript Error: ${err.message}<br>This usually means there's a typo in your chart specification. See the javascript console for the full traceback.`));\n",
              "    }\n",
              "\n",
              "    if(typeof define === \"function\" && define.amd) {\n",
              "      requirejs.config({paths});\n",
              "      require([\"vega-embed\"], displayChart, err => showError(`Error loading script: ${err.message}`));\n",
              "    } else if (typeof vegaEmbed === \"function\") {\n",
              "      displayChart(vegaEmbed);\n",
              "    } else {\n",
              "      loadScript(\"vega\")\n",
              "        .then(() => loadScript(\"vega-lite\"))\n",
              "        .then(() => loadScript(\"vega-embed\"))\n",
              "        .catch(showError)\n",
              "        .then(() => displayChart(vegaEmbed));\n",
              "    }\n",
              "  })({\"config\": {\"view\": {\"continuousWidth\": 400, \"continuousHeight\": 300}}, \"data\": {\"url\": \"https://raw.githubusercontent.com/tobraga/Altair/main/catalog.csv\"}, \"mark\": \"circle\", \"encoding\": {\"color\": {\"type\": \"nominal\", \"field\": \"landslide_size\"}, \"size\": {\"type\": \"nominal\", \"field\": \"landslide_size\"}, \"x\": {\"type\": \"quantitative\", \"field\": \"fatalities\", \"scale\": {\"zero\": false}}, \"y\": {\"type\": \"quantitative\", \"field\": \"population\", \"scale\": {\"padding\": 1, \"zero\": false}}}, \"$schema\": \"https://vega.github.io/schema/vega-lite/v4.8.1.json\"}, {\"mode\": \"vega-lite\"});\n",
              "</script>"
            ]
          },
          "metadata": {
            "tags": []
          },
          "execution_count": 44
        }
      ]
    },
    {
      "cell_type": "markdown",
      "metadata": {
        "id": "sPkLv_gNp7hd"
      },
      "source": [
        "* Há um momento do dia que influência na ocorrência dos deslizamentos de terra e também com fatalidades?"
      ],
      "id": "sPkLv_gNp7hd"
    },
    {
      "cell_type": "markdown",
      "metadata": {
        "id": "birT1QVRvxDV"
      },
      "source": [
        "É possível verificar que quando está chovendo é um grande gatilho para ocorrência de deslizamentos com fatalidades."
      ],
      "id": "birT1QVRvxDV"
    },
    {
      "cell_type": "code",
      "metadata": {
        "id": "8TMl18G6Oeh_",
        "colab": {
          "base_uri": "https://localhost:8080/",
          "height": 434
        },
        "outputId": "b3c65298-39f4-45f9-fe8d-d4c4217aafe1"
      },
      "source": [
        "from vega_datasets import data\n",
        "\n",
        "fatorLocal = alt.Chart(url).mark_circle().encode(\n",
        "    alt.X('location_description:N'),\n",
        "    alt.Y('trigger:N'),\n",
        "    size='count()'\n",
        ").transform_filter(\n",
        "    'datum[\"location_description\"] !== \\\"\\\"' # removendo valores vazios\n",
        ")\n",
        "\n",
        "fatorGatilho = alt.Chart(url).mark_bar().encode(\n",
        "    x='fatalities:Q',\n",
        "    y='trigger:N',\n",
        "    color='location_description:N',\n",
        "    order=alt.Order(\n",
        "      # Sort the segments of the bars by this field\n",
        "      'location_description:N',\n",
        "      sort='ascending'\n",
        "    )\n",
        ").transform_filter(\n",
        "    'datum[\"location_description\"] !== \\\"\\\"' # removendo valores vazios\n",
        ").transform_filter(\n",
        "    \"datum['fatalities'] > 5\" # removendo um outlier\n",
        ").interactive()\n",
        "\n",
        "(fatorLocal | fatorGatilho).configure_view(\n",
        "    stroke='transparent' # sem outline\n",
        ")"
      ],
      "id": "8TMl18G6Oeh_",
      "execution_count": 5,
      "outputs": [
        {
          "output_type": "execute_result",
          "data": {
            "text/plain": [
              "alt.HConcatChart(...)"
            ],
            "text/html": [
              "\n",
              "<div id=\"altair-viz-ce7a3c1f81a84768aa730b1f5c1e7600\"></div>\n",
              "<script type=\"text/javascript\">\n",
              "  (function(spec, embedOpt){\n",
              "    let outputDiv = document.currentScript.previousElementSibling;\n",
              "    if (outputDiv.id !== \"altair-viz-ce7a3c1f81a84768aa730b1f5c1e7600\") {\n",
              "      outputDiv = document.getElementById(\"altair-viz-ce7a3c1f81a84768aa730b1f5c1e7600\");\n",
              "    }\n",
              "    const paths = {\n",
              "      \"vega\": \"https://cdn.jsdelivr.net/npm//vega@5?noext\",\n",
              "      \"vega-lib\": \"https://cdn.jsdelivr.net/npm//vega-lib?noext\",\n",
              "      \"vega-lite\": \"https://cdn.jsdelivr.net/npm//vega-lite@4.8.1?noext\",\n",
              "      \"vega-embed\": \"https://cdn.jsdelivr.net/npm//vega-embed@6?noext\",\n",
              "    };\n",
              "\n",
              "    function loadScript(lib) {\n",
              "      return new Promise(function(resolve, reject) {\n",
              "        var s = document.createElement('script');\n",
              "        s.src = paths[lib];\n",
              "        s.async = true;\n",
              "        s.onload = () => resolve(paths[lib]);\n",
              "        s.onerror = () => reject(`Error loading script: ${paths[lib]}`);\n",
              "        document.getElementsByTagName(\"head\")[0].appendChild(s);\n",
              "      });\n",
              "    }\n",
              "\n",
              "    function showError(err) {\n",
              "      outputDiv.innerHTML = `<div class=\"error\" style=\"color:red;\">${err}</div>`;\n",
              "      throw err;\n",
              "    }\n",
              "\n",
              "    function displayChart(vegaEmbed) {\n",
              "      vegaEmbed(outputDiv, spec, embedOpt)\n",
              "        .catch(err => showError(`Javascript Error: ${err.message}<br>This usually means there's a typo in your chart specification. See the javascript console for the full traceback.`));\n",
              "    }\n",
              "\n",
              "    if(typeof define === \"function\" && define.amd) {\n",
              "      requirejs.config({paths});\n",
              "      require([\"vega-embed\"], displayChart, err => showError(`Error loading script: ${err.message}`));\n",
              "    } else if (typeof vegaEmbed === \"function\") {\n",
              "      displayChart(vegaEmbed);\n",
              "    } else {\n",
              "      loadScript(\"vega\")\n",
              "        .then(() => loadScript(\"vega-lite\"))\n",
              "        .then(() => loadScript(\"vega-embed\"))\n",
              "        .catch(showError)\n",
              "        .then(() => displayChart(vegaEmbed));\n",
              "    }\n",
              "  })({\"config\": {\"view\": {\"continuousWidth\": 400, \"continuousHeight\": 300, \"stroke\": \"transparent\"}}, \"hconcat\": [{\"mark\": \"circle\", \"encoding\": {\"size\": {\"type\": \"quantitative\", \"aggregate\": \"count\"}, \"x\": {\"type\": \"nominal\", \"field\": \"location_description\"}, \"y\": {\"type\": \"nominal\", \"field\": \"trigger\"}}, \"transform\": [{\"filter\": \"datum[\\\"location_description\\\"] !== \\\"\\\"\"}]}, {\"mark\": \"bar\", \"encoding\": {\"color\": {\"type\": \"nominal\", \"field\": \"location_description\"}, \"order\": {\"type\": \"nominal\", \"field\": \"location_description\", \"sort\": \"ascending\"}, \"x\": {\"type\": \"quantitative\", \"field\": \"fatalities\"}, \"y\": {\"type\": \"nominal\", \"field\": \"trigger\"}}, \"selection\": {\"selector001\": {\"type\": \"interval\", \"bind\": \"scales\", \"encodings\": [\"x\", \"y\"]}}, \"transform\": [{\"filter\": \"datum[\\\"location_description\\\"] !== \\\"\\\"\"}, {\"filter\": \"datum['fatalities'] > 5\"}]}], \"data\": {\"url\": \"https://raw.githubusercontent.com/tobraga/Altair/main/catalog.csv\"}, \"$schema\": \"https://vega.github.io/schema/vega-lite/v4.8.1.json\"}, {\"mode\": \"vega-lite\"});\n",
              "</script>"
            ]
          },
          "metadata": {
            "tags": []
          },
          "execution_count": 5
        }
      ]
    },
    {
      "cell_type": "markdown",
      "metadata": {
        "id": "RKnvjcNJwGHx"
      },
      "source": [
        "Durante a noite e as 00h influência nas mortes, podendo supor pelo fato das pessoas estarem dormindo (suposição)."
      ],
      "id": "RKnvjcNJwGHx"
    },
    {
      "cell_type": "code",
      "metadata": {
        "id": "aBDUBKn3TIXa",
        "colab": {
          "base_uri": "https://localhost:8080/",
          "height": 615
        },
        "outputId": "80765422-d4cd-4eb9-87eb-0d9874c535cc"
      },
      "source": [
        "from vega_datasets import data\n",
        "\n",
        "alt.Chart(url).mark_bar().encode(\n",
        "    x='time:N',\n",
        "    y=alt.Y('fatalities:N', sort='-x')\n",
        ").transform_filter(\n",
        "    \"datum['fatalities'] > 10\" # removendo um outlier\n",
        ").interactive()"
      ],
      "id": "aBDUBKn3TIXa",
      "execution_count": null,
      "outputs": [
        {
          "output_type": "execute_result",
          "data": {
            "text/plain": [
              "alt.Chart(...)"
            ],
            "text/html": [
              "\n",
              "<div id=\"altair-viz-0fe8a46276d84c4097968afc444ac1a9\"></div>\n",
              "<script type=\"text/javascript\">\n",
              "  (function(spec, embedOpt){\n",
              "    let outputDiv = document.currentScript.previousElementSibling;\n",
              "    if (outputDiv.id !== \"altair-viz-0fe8a46276d84c4097968afc444ac1a9\") {\n",
              "      outputDiv = document.getElementById(\"altair-viz-0fe8a46276d84c4097968afc444ac1a9\");\n",
              "    }\n",
              "    const paths = {\n",
              "      \"vega\": \"https://cdn.jsdelivr.net/npm//vega@5?noext\",\n",
              "      \"vega-lib\": \"https://cdn.jsdelivr.net/npm//vega-lib?noext\",\n",
              "      \"vega-lite\": \"https://cdn.jsdelivr.net/npm//vega-lite@4.8.1?noext\",\n",
              "      \"vega-embed\": \"https://cdn.jsdelivr.net/npm//vega-embed@6?noext\",\n",
              "    };\n",
              "\n",
              "    function loadScript(lib) {\n",
              "      return new Promise(function(resolve, reject) {\n",
              "        var s = document.createElement('script');\n",
              "        s.src = paths[lib];\n",
              "        s.async = true;\n",
              "        s.onload = () => resolve(paths[lib]);\n",
              "        s.onerror = () => reject(`Error loading script: ${paths[lib]}`);\n",
              "        document.getElementsByTagName(\"head\")[0].appendChild(s);\n",
              "      });\n",
              "    }\n",
              "\n",
              "    function showError(err) {\n",
              "      outputDiv.innerHTML = `<div class=\"error\" style=\"color:red;\">${err}</div>`;\n",
              "      throw err;\n",
              "    }\n",
              "\n",
              "    function displayChart(vegaEmbed) {\n",
              "      vegaEmbed(outputDiv, spec, embedOpt)\n",
              "        .catch(err => showError(`Javascript Error: ${err.message}<br>This usually means there's a typo in your chart specification. See the javascript console for the full traceback.`));\n",
              "    }\n",
              "\n",
              "    if(typeof define === \"function\" && define.amd) {\n",
              "      requirejs.config({paths});\n",
              "      require([\"vega-embed\"], displayChart, err => showError(`Error loading script: ${err.message}`));\n",
              "    } else if (typeof vegaEmbed === \"function\") {\n",
              "      displayChart(vegaEmbed);\n",
              "    } else {\n",
              "      loadScript(\"vega\")\n",
              "        .then(() => loadScript(\"vega-lite\"))\n",
              "        .then(() => loadScript(\"vega-embed\"))\n",
              "        .catch(showError)\n",
              "        .then(() => displayChart(vegaEmbed));\n",
              "    }\n",
              "  })({\"config\": {\"view\": {\"continuousWidth\": 400, \"continuousHeight\": 300}}, \"data\": {\"url\": \"https://raw.githubusercontent.com/tobraga/Altair/main/catalog.csv\"}, \"mark\": \"bar\", \"encoding\": {\"x\": {\"type\": \"nominal\", \"field\": \"time\"}, \"y\": {\"type\": \"nominal\", \"field\": \"fatalities\", \"sort\": \"-x\"}}, \"selection\": {\"selector010\": {\"type\": \"interval\", \"bind\": \"scales\", \"encodings\": [\"x\", \"y\"]}}, \"transform\": [{\"filter\": \"datum['fatalities'] > 10\"}], \"$schema\": \"https://vega.github.io/schema/vega-lite/v4.8.1.json\"}, {\"mode\": \"vega-lite\"});\n",
              "</script>"
            ]
          },
          "metadata": {
            "tags": []
          },
          "execution_count": 85
        }
      ]
    }
  ]
}